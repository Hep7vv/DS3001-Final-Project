{
 "cells": [
  {
   "cell_type": "code",
   "execution_count": 144,
   "metadata": {},
   "outputs": [],
   "source": [
    "import numpy as np\n",
    "import pandas as pd\n",
    "import matplotlib.pyplot as plt\n",
    "import seaborn as sns\n",
    "import os"
   ]
  },
  {
   "cell_type": "code",
   "execution_count": 145,
   "metadata": {},
   "outputs": [
    {
     "name": "stdout",
     "output_type": "stream",
     "text": [
      "dict_keys(['0002_ds250_20205_county_E.csv', '0002_ds176_20105_county_M.csv', '0002_ds206_20145_county_E.csv', '0002_ds225_20165_county_M.csv', '0002_ds191_20125_county_M.csv', '0002_ds177_20105_county_E.csv', '0002_ds249_20205_county_M.csv', '0002_ds239_20185_county_E.csv', '0002_ds249_20205_county_E.csv', '0002_ds239_20185_county_M.csv', '0002_ds250_20205_county_M.csv', '0002_ts_nominal_county.csv', '0002_ds206_20145_county_M.csv', '0002_ds176_20105_county_E.csv', '0002_ds225_20165_county_E.csv', '0002_ds177_20105_county_M.csv', '0002_ds191_20125_county_E.csv'])\n"
     ]
    }
   ],
   "source": [
    "vdf = pd.read_csv('/Users/willmayer/Desktop/DS3001/project/DS3001-Final-Project/data/voting_VA.csv', low_memory=False)\n",
    "\n",
    "path = '/Users/willmayer/Desktop/DS3001/project/DS3001-Final-Project/data/county_data/utf8_justVA'\n",
    "csv_files = [f for f in os.listdir(path) if f.endswith('.csv')]\n",
    "\n",
    "dfs = {}\n",
    "for file in csv_files:\n",
    "    file_path = os.path.join(path, file)\n",
    "    dfs[file] = pd.read_csv(file_path)\n",
    "\n",
    "x = dfs.keys()\n",
    "print(x)\n",
    "\n",
    "# df = pd.merge(vdf, cdf, left_on='county_fips', right_on='FIPS')\n",
    "# df = gdf.merge(cdf,left_on='FIPS_left',right_on='FIPS')  # merge county population and adjacency data into df\n",
    "# del gdf, cdf"
   ]
  },
  {
   "cell_type": "code",
   "execution_count": 146,
   "metadata": {},
   "outputs": [],
   "source": [
    "dfs['0002_ds250_20205_county_E.csv']['YEAR'] = 2020\n",
    "dfs['0002_ds176_20105_county_M.csv']['YEAR'] = 2008\n",
    "dfs['0002_ds206_20145_county_E.csv']['YEAR'] = 2012\n",
    "dfs['0002_ds225_20165_county_M.csv']['YEAR'] = 2016\n",
    "dfs['0002_ds191_20125_county_M.csv']['YEAR'] = 2012\n",
    "dfs['0002_ds177_20105_county_E.csv']['YEAR'] = 2008\n",
    "dfs['0002_ds249_20205_county_M.csv']['YEAR'] = 2020\n",
    "dfs['0002_ds239_20185_county_E.csv']['YEAR'] = 2016\n",
    "dfs['0002_ds249_20205_county_E.csv']['YEAR'] = 2020\n",
    "dfs['0002_ds239_20185_county_M.csv']['YEAR'] = 2016\n",
    "dfs['0002_ds250_20205_county_M.csv']['YEAR'] = 2020\n",
    "dfs['0002_ds206_20145_county_M.csv']['YEAR'] = 2012\n",
    "dfs['0002_ds176_20105_county_E.csv']['YEAR'] = 2008\n",
    "dfs['0002_ds225_20165_county_E.csv']['YEAR'] = 2016\n",
    "dfs['0002_ds177_20105_county_M.csv']['YEAR'] = 2008\n",
    "dfs['0002_ds191_20125_county_E.csv']['YEAR'] = 2012\n",
    "del dfs['0002_ts_nominal_county.csv']"
   ]
  },
  {
   "cell_type": "code",
   "execution_count": 147,
   "metadata": {},
   "outputs": [],
   "source": [
    "df2020 = vdf.loc[vdf['year']==2020,:]\n",
    "# df20 = df2020[::4]\n",
    "df2020 = df2020.reset_index(drop=True)  # Reset index to ensure consistent grouping\n",
    "df2020['group'] = df2020.index // 3     # Create a group identifier every 3 rows\n",
    "\n",
    "# # Dynamically create an aggregation dictionary\n",
    "# # Use 'first' for all columns except 'candidatevotes', which should be summed\n",
    "agg_dict = {col: 'first' for col in df2020.columns if col != 'candidatevotes'}\n",
    "agg_dict['candidatevotes'] = 'sum'  # Summing only the 'candidatevotes' column\n",
    "\n",
    "# # Group by the 'group' and apply the aggregation\n",
    "df_collapsed = df2020.groupby('group').agg(agg_dict).reset_index(drop=True)\n",
    "\n",
    "# # Drop the 'group' column if no longer needed\n",
    "df_collapsed.drop(columns=['group'], inplace=True, errors='ignore')"
   ]
  },
  {
   "cell_type": "code",
   "execution_count": 148,
   "metadata": {},
   "outputs": [],
   "source": [
    "vdf_filtered = vdf[vdf['year'] != 2020]\n",
    "vdf = pd.concat([vdf_filtered, df_collapsed], ignore_index=True)\n",
    "vdf['mode'] = 'TOTAL'"
   ]
  },
  {
   "cell_type": "code",
   "execution_count": 149,
   "metadata": {},
   "outputs": [],
   "source": [
    "stacked_r = pd.concat(dfs.values(),ignore_index=True)\n",
    "stacked_r.rename(columns={'YEAR':'year','COUNTYA':'county_fips'}, inplace=True)\n",
    "vdf['county_fips'] = vdf['county_fips'] - 51000\n",
    "vdf = pd.merge(vdf, stacked_r, on=['county_fips', 'year'], how='inner')"
   ]
  },
  {
   "cell_type": "code",
   "execution_count": 150,
   "metadata": {},
   "outputs": [],
   "source": [
    "test = vdf.iloc[::4]\n",
    "vdf = test\n",
    "vdf = vdf.dropna(axis=1, how='all')\n",
    "# vdf = vdf[vdf['mode']=='TOTAL']"
   ]
  },
  {
   "cell_type": "code",
   "execution_count": 151,
   "metadata": {},
   "outputs": [],
   "source": [
    "df_dem = vdf[vdf['party']=='DEMOCRAT']\n",
    "df_rep = vdf[vdf['party']=='REPUBLICAN']\n",
    "df_other = vdf[vdf['party']=='OTHER']\n",
    "df_dem_sum = df_dem.groupby(['county_fips', 'year'])['candidatevotes'].sum().reset_index(name='dvotes')\n",
    "df_rep_sum = df_rep.groupby(['county_fips', 'year'])['candidatevotes'].sum().reset_index(name='rvotes')\n",
    "df_other_sum = df_other.groupby(['county_fips', 'year'])['candidatevotes'].sum().reset_index(name='ivotes')\n",
    "df_votes = pd.merge(df_dem_sum, df_rep_sum, on=['county_fips', 'year'], how='outer')\n",
    "df_votes = pd.merge(df_votes, df_other_sum, on=['county_fips','year'],how='outer')"
   ]
  },
  {
   "cell_type": "code",
   "execution_count": 152,
   "metadata": {},
   "outputs": [],
   "source": [
    "def winner(row):\n",
    "    votes = {'d': row['dvotes'], 'r': row['rvotes'], 'i': row['ivotes']}\n",
    "    return max(votes, key=votes.get)  # Return the key with the highest value\n",
    "def margin(row):\n",
    "    votes = sorted([row['dvotes'], row['rvotes'], row['ivotes']], reverse=True)\n",
    "    return votes[0] - votes[1]  # Margin is the difference between highest and second-highest"
   ]
  },
  {
   "cell_type": "code",
   "execution_count": 153,
   "metadata": {},
   "outputs": [],
   "source": [
    "df_votes['winner'] = df_votes.apply(winner, axis=1)\n",
    "df_votes['margin'] = df_votes.apply(margin, axis=1)"
   ]
  },
  {
   "cell_type": "code",
   "execution_count": 154,
   "metadata": {},
   "outputs": [],
   "source": [
    "df_votes = pd.merge(df_votes, stacked_r, on=['year','county_fips'],how='left')\n",
    "df_votes = df_votes.dropna(axis=1, how='all')\n",
    "df_votes = df_votes.iloc[::4]"
   ]
  }
 ],
 "metadata": {
  "kernelspec": {
   "display_name": "venv",
   "language": "python",
   "name": "python3"
  },
  "language_info": {
   "codemirror_mode": {
    "name": "ipython",
    "version": 3
   },
   "file_extension": ".py",
   "mimetype": "text/x-python",
   "name": "python",
   "nbconvert_exporter": "python",
   "pygments_lexer": "ipython3",
   "version": "3.12.3"
  }
 },
 "nbformat": 4,
 "nbformat_minor": 2
}
