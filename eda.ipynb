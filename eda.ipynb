{
 "cells": [
  {
   "cell_type": "code",
   "execution_count": 32,
   "metadata": {},
   "outputs": [],
   "source": [
    "import numpy as np\n",
    "import pandas as pd\n",
    "import matplotlib.pyplot as plt\n",
    "import seaborn as sns\n",
    "import os"
   ]
  },
  {
   "cell_type": "code",
   "execution_count": 33,
   "metadata": {},
   "outputs": [
    {
     "name": "stdout",
     "output_type": "stream",
     "text": [
      "dict_keys(['0002_ds250_20205_county_E.csv', '0002_ds176_20105_county_M.csv', '0002_ds206_20145_county_E.csv', '0002_ds225_20165_county_M.csv', '0002_ds191_20125_county_M.csv', '0002_ds177_20105_county_E.csv', '0002_ds249_20205_county_M.csv', '0002_ds239_20185_county_E.csv', '0002_ds249_20205_county_E.csv', '0002_ds239_20185_county_M.csv', '0002_ds250_20205_county_M.csv', '0002_ts_nominal_county.csv', '0002_ds206_20145_county_M.csv', '0002_ds176_20105_county_E.csv', '0002_ds225_20165_county_E.csv', '0002_ds177_20105_county_M.csv', '0002_ds191_20125_county_E.csv'])\n"
     ]
    }
   ],
   "source": [
    "vdf = pd.read_csv('/Users/willmayer/Desktop/DS3001/project/DS3001-Final-Project/data/voting_VA.csv', low_memory=False)\n",
    "\n",
    "path = '/Users/willmayer/Desktop/DS3001/project/DS3001-Final-Project/data/county_data/utf8_justVA'\n",
    "csv_files = [f for f in os.listdir(path) if f.endswith('.csv')]\n",
    "\n",
    "dfs = {}\n",
    "for file in csv_files:\n",
    "    file_path = os.path.join(path, file)\n",
    "    dfs[file] = pd.read_csv(file_path)\n",
    "\n",
    "x = dfs.keys()\n",
    "print(x)\n",
    "\n",
    "# df = pd.merge(vdf, cdf, left_on='county_fips', right_on='FIPS')\n",
    "# df = gdf.merge(cdf,left_on='FIPS_left',right_on='FIPS')  # merge county population and adjacency data into df\n",
    "# del gdf, cdf"
   ]
  },
  {
   "cell_type": "code",
   "execution_count": 34,
   "metadata": {},
   "outputs": [],
   "source": [
    "dfs['0002_ds250_20205_county_E.csv']['YEAR'] = 2020\n",
    "dfs['0002_ds176_20105_county_M.csv']['YEAR'] = 2008\n",
    "dfs['0002_ds206_20145_county_E.csv']['YEAR'] = 2012\n",
    "dfs['0002_ds225_20165_county_M.csv']['YEAR'] = 2016\n",
    "dfs['0002_ds191_20125_county_M.csv']['YEAR'] = 2012\n",
    "dfs['0002_ds177_20105_county_E.csv']['YEAR'] = 2008\n",
    "dfs['0002_ds249_20205_county_M.csv']['YEAR'] = 2020\n",
    "dfs['0002_ds239_20185_county_E.csv']['YEAR'] = 2016\n",
    "dfs['0002_ds249_20205_county_E.csv']['YEAR'] = 2020\n",
    "dfs['0002_ds239_20185_county_M.csv']['YEAR'] = 2016\n",
    "dfs['0002_ds250_20205_county_M.csv']['YEAR'] = 2020\n",
    "dfs['0002_ds206_20145_county_M.csv']['YEAR'] = 2012\n",
    "dfs['0002_ds176_20105_county_E.csv']['YEAR'] = 2008\n",
    "dfs['0002_ds225_20165_county_E.csv']['YEAR'] = 2016\n",
    "dfs['0002_ds177_20105_county_M.csv']['YEAR'] = 2008\n",
    "dfs['0002_ds191_20125_county_E.csv']['YEAR'] = 2012\n",
    "del dfs['0002_ts_nominal_county.csv']"
   ]
  },
  {
   "cell_type": "code",
   "execution_count": 35,
   "metadata": {},
   "outputs": [],
   "source": [
    "stacked_r = pd.concat(dfs.values(),ignore_index=True)\n",
    "stacked_r.rename(columns={'YEAR':'year','COUNTYA':'county_fips'}, inplace=True)\n",
    "vdf['county_fips'] = vdf['county_fips'] - 51000\n",
    "vdf = pd.merge(vdf, stacked_r, on=['county_fips', 'year'], how='inner')"
   ]
  },
  {
   "cell_type": "code",
   "execution_count": 36,
   "metadata": {},
   "outputs": [],
   "source": [
    "vdf\n",
    "df2020 = vdf.loc[vdf['year']==2020,:]"
   ]
  },
  {
   "cell_type": "code",
   "execution_count": 37,
   "metadata": {},
   "outputs": [],
   "source": [
    "test = vdf.iloc[::4]\n",
    "vdf = test\n",
    "vdf = vdf.dropna(axis=1, how='all')\n",
    "# vdf = vdf[vdf['mode']=='TOTAL']"
   ]
  },
  {
   "cell_type": "code",
   "execution_count": 40,
   "metadata": {},
   "outputs": [
    {
     "name": "stderr",
     "output_type": "stream",
     "text": [
      "/var/folders/ll/gtcbtj4n6mjf4mwvq3711yw40000gn/T/ipykernel_22015/868781371.py:2: SettingWithCopyWarning: \n",
      "A value is trying to be set on a copy of a slice from a DataFrame.\n",
      "Try using .loc[row_indexer,col_indexer] = value instead\n",
      "\n",
      "See the caveats in the documentation: https://pandas.pydata.org/pandas-docs/stable/user_guide/indexing.html#returning-a-view-versus-a-copy\n",
      "  test20['xgroup'] = test20.index // 3\n"
     ]
    }
   ],
   "source": [
    "test20 = df2020[::4]\n",
    "test20['xgroup'] = test20.index // 3\n",
    "x = test20.groupby('xgroup').sum()\n",
    "x = x.drop(columns=['group'], errors='ignore')"
   ]
  }
 ],
 "metadata": {
  "kernelspec": {
   "display_name": "venv",
   "language": "python",
   "name": "python3"
  },
  "language_info": {
   "codemirror_mode": {
    "name": "ipython",
    "version": 3
   },
   "file_extension": ".py",
   "mimetype": "text/x-python",
   "name": "python",
   "nbconvert_exporter": "python",
   "pygments_lexer": "ipython3",
   "version": "3.12.3"
  }
 },
 "nbformat": 4,
 "nbformat_minor": 2
}
